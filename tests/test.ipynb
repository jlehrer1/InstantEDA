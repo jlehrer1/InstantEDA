{
 "cells": [
  {
   "cell_type": "code",
   "execution_count": 40,
   "metadata": {
    "scrolled": false
   },
   "outputs": [
    {
     "name": "stdout",
     "output_type": "stream",
     "text": [
      "90421\n"
     ]
    },
    {
     "data": {
      "text/plain": [
       "(90435, 23)"
      ]
     },
     "execution_count": 40,
     "metadata": {},
     "output_type": "execute_result"
    }
   ],
   "source": [
    "import pandas as pd \n",
    "import plotly.graph_objects as go\n",
    "import quickplotter\n",
    "\n",
    "df = pd.read_csv('Companies_filtered.csv', sep=\";\")\n",
    "# test = quickplotter.QuickPlotter(df)\n",
    "# test.plot()\n",
    "df_clean = pd.read_csv('companies_filtered_CLEAN.csv', sep=';').dropna()\n",
    "\n",
    "print(df['CompanyName'].count())\n",
    "df.shape"
   ]
  }
 ],
 "metadata": {
  "kernelspec": {
   "display_name": "Python 3",
   "language": "python",
   "name": "python3"
  },
  "language_info": {
   "codemirror_mode": {
    "name": "ipython",
    "version": 3
   },
   "file_extension": ".py",
   "mimetype": "text/x-python",
   "name": "python",
   "nbconvert_exporter": "python",
   "pygments_lexer": "ipython3",
   "version": "3.7.7"
  }
 },
 "nbformat": 4,
 "nbformat_minor": 4
}
